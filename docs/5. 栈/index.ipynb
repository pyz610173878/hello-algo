{
 "cells": [
  {
   "cell_type": "code",
   "execution_count": 2,
   "id": "e694e6c4-922a-43d4-9033-aede75aa1cd2",
   "metadata": {},
   "outputs": [],
   "source": [
    "/* 初始化栈 */\n",
    "// JavaScript 没有内置的栈类，可以把 Array 当作栈来使用.数组的最左边为栈底,最右边为栈顶.\n",
    "const stack = [];\n"
   ]
  },
  {
   "cell_type": "code",
   "execution_count": 4,
   "id": "6f3fc28e-d1b6-4fd3-b490-2126bc976e92",
   "metadata": {},
   "outputs": [
    {
     "data": {
      "text/plain": [
       "\u001b[33m5\u001b[39m"
      ]
     },
     "execution_count": 4,
     "metadata": {},
     "output_type": "execute_result"
    }
   ],
   "source": [
    "/* 元素入栈 */\n",
    "stack.push(1);\n",
    "stack.push(3);\n",
    "stack.push(2);\n",
    "stack.push(5);\n",
    "stack.push(4);"
   ]
  },
  {
   "cell_type": "code",
   "execution_count": 5,
   "id": "d5e3e9af-b49d-4b46-b09c-c88ff5408d0a",
   "metadata": {},
   "outputs": [
    {
     "data": {
      "text/plain": [
       "[ \u001b[33m1\u001b[39m, \u001b[33m3\u001b[39m, \u001b[33m2\u001b[39m, \u001b[33m5\u001b[39m, \u001b[33m4\u001b[39m ]"
      ]
     },
     "execution_count": 5,
     "metadata": {},
     "output_type": "execute_result"
    }
   ],
   "source": [
    "stack"
   ]
  },
  {
   "cell_type": "code",
   "execution_count": null,
   "id": "07092886-e9e7-4214-ab59-4ed335133c8b",
   "metadata": {},
   "outputs": [],
   "source": [
    "/* 访问栈顶元素 */\n",
    "const peek = stack[stack.length-1];\n",
    "\n",
    "/* 元素出栈 */\n",
    "const pop = stack.pop();\n",
    "\n",
    "/* 获取栈的长度 */\n",
    "const size = stack.length;\n",
    "\n",
    "/* 判断是否为空 */\n",
    "const is_empty = stack.length === 0;"
   ]
  },
  {
   "cell_type": "code",
   "execution_count": 6,
   "id": "b894d608-ad2b-4919-a715-1177cc64c894",
   "metadata": {},
   "outputs": [
    {
     "data": {
      "text/plain": [
       "\u001b[33m5\u001b[39m"
      ]
     },
     "execution_count": 6,
     "metadata": {},
     "output_type": "execute_result"
    }
   ],
   "source": [
    "// 长度从1开始数.所有需要减-1.出栈:使用pop移除栈顶元素.\n",
    "// 不能直接移除栈底的元素.只有 "
   ]
  }
 ],
 "metadata": {
  "kernelspec": {
   "display_name": "Deno",
   "language": "typescript",
   "name": "deno"
  },
  "language_info": {
   "file_extension": ".ts",
   "mimetype": "text/x.typescript",
   "name": "typescript",
   "nb_converter": "script",
   "pygments_lexer": "typescript",
   "version": "5.3.3"
  }
 },
 "nbformat": 4,
 "nbformat_minor": 5
}
