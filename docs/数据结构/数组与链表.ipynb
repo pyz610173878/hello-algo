{
 "cells": [
  {
   "cell_type": "markdown",
   "metadata": {},
   "source": [
    "# 4.1 数组\n"
   ]
  },
  {
   "cell_type": "markdown",
   "metadata": {},
   "source": [
    "## 4.1.1 数组常用操作\n",
    "\n",
    "### 1.  初始化数组\n",
    "\n",
    "\n",
    "数组数据结构的特性是，内存地址的连续性。数组中的子元素为一个内存地址。（只存在模糊的图像。）\n",
    "\n",
    "\n"
   ]
  },
  {
   "cell_type": "code",
   "execution_count": 82,
   "metadata": {},
   "outputs": [
    {
     "name": "stdout",
     "output_type": "stream",
     "text": [
      "[0, 1, 2, 3, 4, 5, 6, 7, 8, 9]\n"
     ]
    },
    {
     "data": {
      "text/plain": [
       "6"
      ]
     },
     "execution_count": 82,
     "metadata": {},
     "output_type": "execute_result"
    }
   ],
   "source": [
    "import random\n",
    "# /* 初始化数组 */\n",
    "#  编写一个函数，生成给定参数的数组。因为手动初始化数组很麻烦，很重复，所以写一个函数来生成数组。\n",
    "\n",
    "#  函数的参数是什么?\n",
    "\n",
    "#  类似的问题我解决过。是输入了一个命令。但是电脑重启后就失效了。更新设置这种方式我不会解决\n",
    "#  。先用下笨办法。\n",
    "\n",
    "# /* 初始化数组 */\n",
    "\n",
    "\n",
    "def initialize_array(n):\n",
    "    arr = []\n",
    "    for i in range(0, n):\n",
    "        arr.append(i)\n",
    "    return arr\n",
    "\n",
    "\n",
    "print(initialize_array(10))\n",
    "\n",
    "\n",
    "\n",
    "# 随机访问数组中的任一元素\n",
    "# 使用随机数函数。参数为0——数组的长度-1.然后返回随机数对应的元素。\n",
    "def get_array(nums):\n",
    "    length = len(nums) - 1\n",
    "    suijin = random.randint(0, length)\n",
    "    return nums[suijin]\n",
    "    \n",
    "nums = [0, 1, 2, 3, 4, 5, 6, 7, 8, 9]\n",
    "\n",
    "get_array(nums)\n"
   ]
  },
  {
   "cell_type": "code",
   "execution_count": 2,
   "metadata": {},
   "outputs": [],
   "source": [
    "# /* 随机访问元素 */"
   ]
  },
  {
   "cell_type": "markdown",
   "metadata": {},
   "source": [
    "### 3. 插入元素"
   ]
  },
  {
   "cell_type": "markdown",
   "metadata": {},
   "source": [
    "把元素插入到对应索引值的位置。比如[1,2,3] n = 2。插入到 索引值 2 的位置。 那么数组变成了 [1,2,2] 那么还会有3吗？我也不知道到底有没有。\n",
    "\n",
    "\n",
    "\n",
    "我的第一个思路：使用append方法。但append方法只是把元素插入到末尾。如果我想指定元素到什么位置呢?我可以编写一个函数。\n",
    "插入的索引值，数组本身，插入元素本身。\n",
    "\n",
    "\n",
    "根据数组的长度-1循环数组。每一次循环，当前索引值-1的值，赋值给当前数组的值。举个例子，[1,2,3].第一次循环的值应该是2。因为是3-1.\n",
    "然后把nums[2] = nums[2 - 1].把他前一位的值，赋值给.\n",
    "举个例子，竖排的三个人，每个人手里拿着的苹果数为，1,2,3.他丢掉了他的苹果，\n",
    "\n",
    "\n",
    "1. 循环次数根据元素要插入的索引值来定。 \n",
    "\n",
    "与之有关的题目，插入元素。可能有用的定理，（这个定理是一个变量）他是一个输入空间。在计算机领域可以替换成。算法，\n",
    "\n",
    "\n",
    "同样的题目，稍有不同的形式，这句话是什么意思？"
   ]
  },
  {
   "cell_type": "markdown",
   "metadata": {},
   "source": [
    "如何在数组元素末尾插入指定元素。[1,2,3]插入4.[1,2,3,4]。把4赋值给元素索引值+1即可。"
   ]
  },
  {
   "cell_type": "markdown",
   "metadata": {},
   "source": [
    "在数组开头插入元素：\n",
    "编写一个函数，它接受一个数组和一个元素作为参数，并将该元素添加到数组的开头，数组中的其他元素相应地向后移动。\n",
    "\n",
    "如何让数组中的所有元素向后移动。\n",
    "\n"
   ]
  },
  {
   "cell_type": "code",
   "execution_count": null,
   "metadata": {},
   "outputs": [
    {
     "ename": "",
     "evalue": "",
     "output_type": "error",
     "traceback": [
      "\u001b[1;31m无法启动 Kernel。 \n",
      "\u001b[1;31mC:\\Program Files\\nvm\\v16.20.2\\node_modules\\ijavascript\\node_modules\\node-gyp-build\\node-gyp-build.js:60\n",
      "\u001b[1;31m  throw new Error('No native build was found for ' + target + '\\n    loaded from: ' + dir + '\\n')\n",
      "\u001b[1;31m  ^\n",
      "\u001b[1;31m\n",
      "\u001b[1;31mError: No native build was found for platform=win32 arch=x64 runtime=electron abi=93 uv=1 libc=glibc node=16.20.2\n",
      "\u001b[1;31m    loaded from: C:\\Program Files\\nvm\\v16.20.2\\node_modules\\ijavascript\\node_modules\\zeromq\n",
      "\u001b[1;31m\n",
      "\u001b[1;31m    at Function.load.resolve.load.path (C:\\Program Files\\nvm\\v16.20.2\\node_modules\\ijavascript\\node_modules\\node-gyp-build\\node-gyp-build.js:60:9)\n",
      "\u001b[1;31m    at load (C:\\Program Files\\nvm\\v16.20.2\\node_modules\\ijavascript\\node_modules\\node-gyp-build\\node-gyp-build.js:22:30)\n",
      "\u001b[1;31m    at Object.<anonymous> (C:\\Program Files\\nvm\\v16.20.2\\node_modules\\ijavascript\\node_modules\\zeromq\\binding.js:1:43)\n",
      "\u001b[1;31m    at Module._compile (node:internal/modules/cjs/loader:1198:14)\n",
      "\u001b[1;31m    at Object.Module._extensions..js (node:internal/modules/cjs/loader:1252:10)\n",
      "\u001b[1;31m    at Module.load (node:internal/modules/cjs/loader:1076:32)\n",
      "\u001b[1;31m    at Function.Module._load (node:internal/modules/cjs/loader:911:12)\n",
      "\u001b[1;31m    at Module.require (node:internal/modules/cjs/loader:1100:19)\n",
      "\u001b[1;31m    at require (node:internal/modules/cjs/helpers:119:18)\n",
      "\u001b[1;31m    at Object.<anonymous> (C:\\Program Files\\nvm\\v16.20.2\\node_modules\\ijavascript\\node_modules\\zeromq\\lib\\index.js:6:11). \n",
      "\u001b[1;31m有关更多详细信息，请查看 Jupyter <a href='command:jupyter.viewOutput'>log</a>。"
     ]
    }
   ],
   "source": [
    "# /**\n",
    "#  * 把元素插入到指定的索引位置，返回新数组。\n",
    "#  * @param num 数组\n",
    "#  * @param index 索引\n",
    "#  * @param num 元素\n",
    "#  * @returns 返回新数组\n",
    "#  */\n",
    "# const join_num = (nums,index, num) => {\n",
    "#     for( let i = )\n",
    "# }\n",
    "\n",
    "\n",
    "#   我建议你分解一下。简化例子。\n",
    "\n",
    "\n",
    "\n",
    "\n",
    "#  哪里出了问题呢？"
   ]
  },
  {
   "cell_type": "code",
   "execution_count": 18,
   "metadata": {},
   "outputs": [
    {
     "name": "stdout",
     "output_type": "stream",
     "text": [
      "这是一个日志信息\n"
     ]
    }
   ],
   "source": [
    "function log() {\n",
    "    console.log.apply(console, arguments);\n",
    "}\n",
    "\n",
    "// 使用log()函数\n",
    "log(\"这是一个日志信息\");\n"
   ]
  },
  {
   "cell_type": "code",
   "execution_count": 17,
   "metadata": {},
   "outputs": [
    {
     "name": "stdout",
     "output_type": "stream",
     "text": [
      "\n"
     ]
    }
   ],
   "source": []
  },
  {
   "cell_type": "markdown",
   "metadata": {},
   "source": []
  },
  {
   "cell_type": "markdown",
   "metadata": {},
   "source": [
    "### 4. 删除元素\n",
    "\n",
    "\n",
    "怎么个删除法？根据索引值删除。元素已经删除了，没有预留的位置了。"
   ]
  },
  {
   "cell_type": "code",
   "execution_count": 3,
   "metadata": {},
   "outputs": [
    {
     "data": {
      "text/plain": [
       "[ \u001b[33m2\u001b[39m, \u001b[33m3\u001b[39m ]"
      ]
     },
     "execution_count": 3,
     "metadata": {},
     "output_type": "execute_result"
    },
    {
     "ename": "",
     "evalue": "",
     "output_type": "error",
     "traceback": [
      "\u001b[1;31m在当前单元格或上一个单元格中执行代码时 Kernel 崩溃。\n",
      "\u001b[1;31m请查看单元格中的代码，以确定故障的可能原因。\n",
      "\u001b[1;31m单击<a href='https://aka.ms/vscodeJupyterKernelCrash'>此处</a>了解详细信息。\n",
      "\u001b[1;31m有关更多详细信息，请查看 Jupyter <a href='command:jupyter.viewOutput'>log</a>。"
     ]
    },
    {
     "ename": "",
     "evalue": "",
     "output_type": "error",
     "traceback": [
      "\u001b[1;31m在当前单元格或上一个单元格中执行代码时 Kernel 崩溃。\n",
      "\u001b[1;31m请查看单元格中的代码，以确定故障的可能原因。\n",
      "\u001b[1;31m单击<a href='https://aka.ms/vscodeJupyterKernelCrash'>此处</a>了解详细信息。\n",
      "\u001b[1;31m有关更多详细信息，请查看 Jupyter <a href='command:jupyter.viewOutput'>log</a>。"
     ]
    }
   ],
   "source": [
    "\n",
    "\n",
    "const arr = [1, 2, 3, 4];\n",
    "const removedItems = arr.splice(1, 2); // arr 现在是 [1, 4]\n",
    "\n",
    "\n"
   ]
  }
 ],
 "metadata": {
  "kernelspec": {
   "display_name": "Python 3",
   "language": "python",
   "name": "python3"
  },
  "language_info": {
   "codemirror_mode": {
    "name": "ipython",
    "version": 3
   },
   "file_extension": ".py",
   "mimetype": "text/x-python",
   "name": "python",
   "nbconvert_exporter": "python",
   "pygments_lexer": "ipython3",
   "version": "3.12.1"
  }
 },
 "nbformat": 4,
 "nbformat_minor": 2
}
