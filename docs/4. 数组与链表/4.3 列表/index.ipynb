{
 "cells": [
  {
   "cell_type": "code",
   "execution_count": 5,
   "id": "37dde7b2-dbe5-46bc-818e-afebd9cf025b",
   "metadata": {},
   "outputs": [],
   "source": [
    "function log() {\n",
    "    console.log.apply(console, arguments);\n",
    "}\n"
   ]
  },
  {
   "cell_type": "markdown",
   "id": "d6292550-c959-4add-8f3d-0d646cc4d874",
   "metadata": {},
   "source": [
    "### 1. 初始化"
   ]
  },
  {
   "cell_type": "markdown",
   "id": "5ba97842-6501-4c33-96a4-78cb035ed1fe",
   "metadata": {},
   "source": [
    "数据结构的共性操作：\n",
    "初始化，访问，插入与删除，遍历。\n"
   ]
  },
  {
   "cell_type": "code",
   "execution_count": 11,
   "id": "06d64410-fc4b-4348-befd-ed3737ec16e1",
   "metadata": {},
   "outputs": [
    {
     "data": {
      "text/plain": [
       "\u001b[33m12\u001b[39m"
      ]
     },
     "execution_count": 11,
     "metadata": {},
     "output_type": "execute_result"
    }
   ],
   "source": [
    "const nums = [1,2,3,4,5,6]\n",
    "const numes = [1,2,3,4,5,6]\n"
   ]
  },
  {
   "cell_type": "markdown",
   "id": "6ba2ab1e-777e-4e96-af5d-9e74b672039e",
   "metadata": {},
   "source": [
    "### 3. 插入与删除\n",
    "\n",
    "\n",
    "\n",
    "\n",
    "\n",
    "插入函数：\n",
    "参数：数组，索引值。\n",
    "返回值：新数组\n",
    "\n",
    "\n",
    "\n",
    "1 2 3 4 5\n",
    "我插队，排到了第三个。我现在变成第三个了。1 2 3.4 4 5 6\n",
    "以前索引值为3的数据，索引值变成了4他后面的数据的索引值依次延后。\n",
    "\n"
   ]
  },
  {
   "cell_type": "code",
   "execution_count": 2,
   "id": "7cfe134f-d415-4a81-b1e6-b6c033276b25",
   "metadata": {},
   "outputs": [],
   "source": [
    "function charu(nums,index){\n",
    "    \n",
    "}"
   ]
  },
  {
   "cell_type": "markdown",
   "id": "bd4d47aa-44e2-4e39-a986-27ca2191db9e",
   "metadata": {},
   "source": [
    "### 遍历与拼接数组\n",
    "\n",
    "\n",
    "\n",
    "\n",
    "遍历数组的本质，就是数组的所有下标都访问一遍。\n",
    "\n",
    "\n",
    "let index = 0\n",
    "while ( "
   ]
  },
  {
   "cell_type": "code",
   "execution_count": 12,
   "id": "3c19d096-ee27-41a1-9afb-6dc6ec648c0c",
   "metadata": {},
   "outputs": [
    {
     "data": {
      "text/plain": [
       "\u001b[33m42\u001b[39m"
      ]
     },
     "execution_count": 12,
     "metadata": {},
     "output_type": "execute_result"
    }
   ],
   "source": [
    "/* 通过索引遍历列表 */\n",
    "let count = 0;\n",
    "for (let i = 0; i < nums.length; i++) {\n",
    "    count += nums[i];\n",
    "}\n",
    "\n",
    "/* 直接遍历列表元素 */\n",
    "count = 0;\n",
    "for (const num of nums) {\n",
    "    count += num;\n",
    "}\n",
    "\n",
    "\n"
   ]
  },
  {
   "cell_type": "markdown",
   "id": "2084864a-fd63-41e3-9237-6ae4e90978f3",
   "metadata": {},
   "source": [
    "### 4. 拼接字符串\n",
    "\n",
    "\n"
   ]
  },
  {
   "cell_type": "code",
   "execution_count": 13,
   "id": "73b73bb0-6e97-40d2-8fab-fc2ada69f998",
   "metadata": {},
   "outputs": [
    {
     "data": {
      "text/plain": [
       "\u001b[33m17\u001b[39m"
      ]
     },
     "execution_count": 13,
     "metadata": {},
     "output_type": "execute_result"
    }
   ],
   "source": [
    "/* 拼接两个列表 */\n",
    "const nums1 = [6, 8, 7, 10, 9];\n",
    "nums.push(...nums1);  // 将列表 nums1 拼接到 nums 之后\n",
    "\n",
    "\n"
   ]
  },
  {
   "cell_type": "markdown",
   "id": "0e5d6392-3f7f-47e9-84d2-d2a9ed2f6293",
   "metadata": {},
   "source": [
    "### 7. 列表实现\n",
    "\n"
   ]
  },
  {
   "cell_type": "code",
   "execution_count": 2,
   "id": "cd087188-08b1-4b43-b89b-314793b01f82",
   "metadata": {},
   "outputs": [],
   "source": [
    "// 初始化\n",
    "// 通过下标访问索引是如何实现的？\n",
    "\n",
    "// 实现与会使用,没有一点思路。我不知道他要干什么？实现一个简易的列表数据类型。类似于链表的实现。\n",
    "\n",
    "/* 列表类 */\n",
    "class MyList {\n",
    "    #arr = new Array(); // 数组（存储列表元素）\n",
    "    #capacity = 10; // 列表容量\n",
    "    #size = 0; // 列表长度（当前元素数量）\n",
    "    #extendRatio = 2; // 每次列表扩容的倍数\n",
    "\n",
    "    /* 构造方法 */\n",
    "    constructor() {\n",
    "        this.#arr = new Array(this.#capacity);\n",
    "    }\n",
    "\n",
    "    /* 获取列表长度（当前元素数量）*/\n",
    "    size() {\n",
    "        return this.#size;\n",
    "    }\n",
    "\n",
    "    /* 获取列表容量 */\n",
    "    capacity() {\n",
    "        return this.#capacity;\n",
    "    }\n",
    "\n",
    "    /* 访问元素 */\n",
    "    get(index) {\n",
    "        // 索引如果越界，则抛出异常，下同\n",
    "        if (index < 0 || index >= this.#size) throw new Error('索引越界');\n",
    "        return this.#arr[index];\n",
    "    }\n",
    "\n",
    "    /* 更新元素 */\n",
    "    set(index, num) {\n",
    "        if (index < 0 || index >= this.#size) throw new Error('索引越界');\n",
    "        this.#arr[index] = num;\n",
    "    }\n",
    "\n",
    "    /* 在尾部添加元素 */\n",
    "    add(num) {\n",
    "        // 如果长度等于容量，则需要扩容\n",
    "        if (this.#size === this.#capacity) {\n",
    "            this.extendCapacity();\n",
    "        }\n",
    "        // 将新元素添加到列表尾部\n",
    "        this.#arr[this.#size] = num;\n",
    "        this.#size++;\n",
    "    }\n",
    "\n",
    "    /* 在中间插入元素 */\n",
    "    insert(index, num) {\n",
    "        if (index < 0 || index >= this.#size) throw new Error('索引越界');\n",
    "        // 元素数量超出容量时，触发扩容机制\n",
    "        if (this.#size === this.#capacity) {\n",
    "            this.extendCapacity();\n",
    "        }\n",
    "        // 将索引 index 以及之后的元素都向后移动一位\n",
    "        for (let j = this.#size - 1; j >= index; j--) {\n",
    "            this.#arr[j + 1] = this.#arr[j];\n",
    "        }\n",
    "        // 更新元素数量\n",
    "        this.#arr[index] = num;\n",
    "        this.#size++;\n",
    "    }\n",
    "\n",
    "    /* 删除元素 */\n",
    "    remove(index) {\n",
    "        if (index < 0 || index >= this.#size) throw new Error('索引越界');\n",
    "        let num = this.#arr[index];\n",
    "        // 将将索引 index 之后的元素都向前移动一位\n",
    "        for (let j = index; j < this.#size - 1; j++) {\n",
    "            this.#arr[j] = this.#arr[j + 1];\n",
    "        }\n",
    "        // 更新元素数量\n",
    "        this.#size--;\n",
    "        // 返回被删除的元素\n",
    "        return num;\n",
    "    }\n",
    "\n",
    "    /* 列表扩容 */\n",
    "    extendCapacity() {\n",
    "        // 新建一个长度为原数组 extendRatio 倍的新数组，并将原数组复制到新数组\n",
    "        this.#arr = this.#arr.concat(\n",
    "            new Array(this.capacity() * (this.#extendRatio - 1))\n",
    "        );\n",
    "        // 更新列表容量\n",
    "        this.#capacity = this.#arr.length;\n",
    "    }\n",
    "\n",
    "    /* 将列表转换为数组 */\n",
    "    toArray() {\n",
    "        let size = this.size();\n",
    "        // 仅转换有效长度范围内的列表元素\n",
    "        const arr = new Array(size);\n",
    "        for (let i = 0; i < size; i++) {\n",
    "            arr[i] = this.get(i);\n",
    "        }\n",
    "        return arr;\n",
    "    }\n",
    "}\n"
   ]
  },
  {
   "cell_type": "code",
   "execution_count": 13,
   "id": "bd9d7566-794e-40f4-8b9d-109295e4aaa1",
   "metadata": {},
   "outputs": [
    {
     "data": {
      "text/plain": [
       "mylist {}"
      ]
     },
     "execution_count": 13,
     "metadata": {},
     "output_type": "execute_result"
    }
   ],
   "source": [
    "class mylist {\n",
    "    #arr = new Array(); // 数组（存储列表元素）\n",
    "    #capacity = 10; // 列表容量\n",
    "    #size = 0; // 列表长度（当前元素数量）\n",
    "    #extendRatio = 2; // 每次列表扩容的倍数\n",
    "\n",
    "    /* 构造方法 */\n",
    "    constructor() {\n",
    "        this.#arr = new Array(this.#capacity);\n",
    "    }\n",
    "    size() {\n",
    "        return this.#size;\n",
    " \n",
    "    }\n",
    "/* 访问元素 */\n",
    "    get(index) {\n",
    "        // 索引如果越界，则抛出异常，下同\n",
    "        if (index < 0 || index >= this.#size) throw new Error('索引越界');\n",
    "        return this.#arr[index];\n",
    "    }\n",
    "}\n",
    "\n",
    "const list1 = new mylist()\n",
    "list1\n",
    "\n",
    "// 当实例化时,你实际上是在调用这个类的构造函数，这个构造函数会创建一个新的对象，并且这个对象会继承自类的原型。"
   ]
  }
 ],
 "metadata": {
  "kernelspec": {
   "display_name": "Deno",
   "language": "typescript",
   "name": "deno"
  },
  "language_info": {
   "file_extension": ".ts",
   "mimetype": "text/x.typescript",
   "name": "typescript",
   "nb_converter": "script",
   "pygments_lexer": "typescript",
   "version": "5.3.3"
  }
 },
 "nbformat": 4,
 "nbformat_minor": 5
}
