{
 "cells": [
  {
   "cell_type": "markdown",
   "metadata": {},
   "source": [
    "# 4.1 数组\n",
    "\n",
    "数组定义与存储方式。\n",
    "元素，索引，连续性的内存地址。"
   ]
  },
  {
   "cell_type": "markdown",
   "metadata": {},
   "source": [
    "## 4.1.1 数组常用操作\n",
    "\n",
    "### 1.  初始化数组\n",
    "\n",
    "两种初始化方式有初始值和无初始值。\n",
    "基本数据类型。不仅仅生成数字，生成对象，生成空字符。\n",
    "['1','2','3','4','5']"
   ]
  },
  {
   "cell_type": "code",
   "execution_count": 1,
   "metadata": {
    "metadata": {}
   },
   "outputs": [
    {
     "name": "stdout",
     "output_type": "stream",
     "text": [
      "[0, 1, 2, 3, 4, 5, 6, 7, 8, 9]\n"
     ]
    }
   ],
   "source": [
    "import random\n",
    "# /* 初始化数组 */\n",
    "#  编写一个函数，生成给定参数的数组。因为手动初始化数组很麻烦，很重复，所以写一个函数来生成数组。\n",
    "\n",
    "#  函数的参数是什么?\n",
    "\n",
    "#  类似的问题我解决过。是输入了一个命令。但是电脑重启后就失效了。更新设置这种方式我不会解决\n",
    "#  。先用下笨办法。\n",
    "\n",
    "# /* 初始化数组 */\n",
    "\n",
    "\n",
    "def initialize_array(n):\n",
    "    arr = []\n",
    "    for i in range(0, n):\n",
    "        arr.append(i)\n",
    "    return arr\n",
    "\n",
    "\n",
    "print(initialize_array(10))\n",
    "\n",
    "\n",
    "\n",
    "\n",
    "\n",
    "arry_object = [{}]\n"
   ]
  },
  {
   "cell_type": "markdown",
   "metadata": {},
   "source": [
    "### 2. 访问元素\n",
    "\n",
    "\n",
    "元素的值可以是不同类型的基本数据类型，它是存储在数组中的统称。访问元素就是获取存储在数组中的某种基本数据类型。元素通过索引值进行访问。\n",
    "\n",
    "\n",
    "\n",
    "这个属于算法了。但我想编写一个函数，参数为索引值，返回对应索引值的数据。单一责任原则，这个函数只做了一件事情也就是返回对应索引值的数据。但是这个函数应该还有一个参数，那就是数组本身。没有数组你去访问谁。\n",
    "\n",
    "获取索引值多少到多少的数组。\n",
    "\n",
    "\n",
    "元素内存地址 =  数组首元素地址 + 元素索引 + 数组总元素的长度"
   ]
  },
  {
   "cell_type": "markdown",
   "metadata": {},
   "source": [
    "#### 2.1 随机访问数组中某一个元素值\n",
    "\n",
    "元素可以通过索引值访问。\n",
    "1. 获取数组的索引长度。\n",
    "2. 使用生成随机数函数，参数为0-索引长度。\n",
    "3. 返回数组[随机数]\n",
    "\n",
    "\n",
    "\n",
    "题目：返回数组索引值区间的元素\n",
    "\n",
    "示例 1：\n",
    "\n",
    "输入：nums1 = [1,2,3,0,0,0]   算法：slice(2,5)\n",
    "输出：[3,0,0]\n",
    "解释：返回2-4（不包括5）索引值的新数组。\n",
    "\n",
    "\n",
    "\n",
    "\n",
    "\n"
   ]
  },
  {
   "cell_type": "code",
   "execution_count": 2,
   "metadata": {
    "metadata": {}
   },
   "outputs": [
    {
     "data": {
      "text/plain": [
       "[3, 0, 0]"
      ]
     },
     "execution_count": 2,
     "metadata": {},
     "output_type": "execute_result"
    }
   ],
   "source": [
    "def slices(nums,s,d):\n",
    "    return nums[s:d]\n",
    "\n",
    "nums1 = [1,2,3,0,0,0]\n",
    "\n",
    "\n",
    "slices(nums1,2,5)\n"
   ]
  },
  {
   "cell_type": "code",
   "execution_count": 3,
   "metadata": {
    "metadata": {}
   },
   "outputs": [],
   "source": [
    "nums = [0, 1, 2, 3, 4, 5, 6, 7, 8, 9]\n",
    "\n",
    "\n",
    "def get_sums(nums,index):\n",
    "    return nums[index]\n",
    "\n",
    "def d(func,nums,index):\n",
    "    return func(nums,index)\n",
    "\n",
    "result = d(get_sums,nums,7)\n",
    "result\n",
    "\n",
    "\n",
    "\n",
    "nums = [0, 1, 2, 3, 4, 5, 6, 7, 8, 9]\n",
    "\n",
    "\n",
    "\n",
    "\n"
   ]
  },
  {
   "cell_type": "code",
   "execution_count": 4,
   "metadata": {
    "metadata": {}
   },
   "outputs": [
    {
     "data": {
      "text/plain": [
       "'pyz'"
      ]
     },
     "execution_count": 4,
     "metadata": {},
     "output_type": "execute_result"
    }
   ],
   "source": [
    "arrys = [{\n",
    "  \"name\": \"pyz\",\n",
    "  \"age\": 18,\n",
    "  \"performance\": \"codeing\"\n",
    "}] \n",
    "\n",
    "\n",
    "arrys[0]['name']"
   ]
  },
  {
   "cell_type": "code",
   "execution_count": 5,
   "metadata": {},
   "outputs": [
    {
     "data": {
      "text/plain": [
       "3"
      ]
     },
     "execution_count": 5,
     "metadata": {},
     "output_type": "execute_result"
    }
   ],
   "source": [
    "# /* 随机访问元素 */\n",
    "\n",
    "# 随机访问数组中的任一元素\n",
    "# 使用随机数函数。参数为0——数组的长度-1.然后返回随机数对应的元素。\n",
    "def get_array(nums):\n",
    "    length = len(nums) - 1\n",
    "    suijin = random.randint(0, length)\n",
    "    return nums[suijin]\n",
    "    \n",
    "nums = [0, 1, 2, 3, 4, 5, 6, 7, 8, 9]\n",
    "\n",
    "get_array(nums)"
   ]
  },
  {
   "cell_type": "markdown",
   "metadata": {},
   "source": [
    "### 3. 插入元素\n",
    "\n",
    "\n",
    "示例：nums = [1,2,5,4,0] nums[1] = 3\n",
    "输出: [1,3,2,5,4]\n",
    "\n",
    "\n",
    "可以想象成，你正在排队点肯德基，你前面有四个人。突然有一位没有礼貌的大叔插到了你前面，于是你的位置就变成了第六个。排到你后面的都需要往后挪一位。\n",
    "\n",
    "如果想在数组中间插入一个元素，则需要将该元素之后的所有元素都向后移动一位，之后再把元素赋值给该索引。\n",
    "就跟排队一样，你要插队你后面的人就要挪一位。\n",
    "1. 从.\n",
    "2. "
   ]
  },
  {
   "cell_type": "code",
   "execution_count": 6,
   "metadata": {
    "metadata": {}
   },
   "outputs": [],
   "source": [
    "\n",
    "numes = [1,2,5,4,0]\n",
    "\n",
    "\n",
    "\n",
    "# 生成从大到小的索引值。 \n",
    "\n",
    "\n",
    "\n",
    "# 将元素之后的所有元素都往后移动一位。\n",
    "\n",
    "\n",
    "\n",
    "# def insert(nums: list[int], num: int, index: int):\n",
    "#     \"\"\"在数组的索引 index 处插入元素 num\"\"\"\n",
    "#     # 把索引 index 以及之后的所有元素向后移动一位\n",
    "#     for i in range(len(nums) - 1, index, -1):\n",
    "#         print(i)\n",
    "#         nums[i] = nums[i - 1]\n",
    "#     # 将 num 赋给 index 处的元素\n",
    "#     nums[index] = num\n",
    "\n",
    "\n",
    "\n",
    "# insert(numes,5,0)   \n",
    "\n",
    "\n",
    "\n",
    "# 生成倒叙\n",
    "\n",
    "\n"
   ]
  },
  {
   "cell_type": "markdown",
   "metadata": {},
   "source": [
    "把元素插入到对应索引值的位置。比如[1,2,3] n = 2。插入到 索引值 2 的位置。 那么数组变成了 [1,2,2] 那么还会有3吗？我也不知道到底有没有。\n",
    "\n",
    "所有元素都往后移动一格。如何开始移动。\n",
    "\n",
    "我的第一个思路：使用append方法。但append方法只是把元素插入到末尾。如果我想指定元素到什么位置呢?我可以编写一个函数。\n",
    "插入的索引值，数组本身，插入元素本身。\n",
    "\n",
    "\n",
    "根据数组的长度-1循环数组。每一次循环，当前索引值-1的值，赋值给当前数组的值。举个例子，[1,2,3].第一次循环的值应该是2。因为是3-1.\n",
    "然后把nums[2] = nums[2 - 1].把他前一位的值，赋值给.\n",
    "举个例子，竖排的三个人，每个人手里拿着的苹果数为，1,2,3.他丢掉了他的苹果，\n",
    "\n",
    "\n",
    "1. 循环次数根据元素要插入的索引值来定。 \n",
    "\n",
    "与之有关的题目，插入元素。可能有用的定理，（这个定理是一个变量）他是一个输入空间。在计算机领域可以替换成。算法，\n",
    "\n",
    "\n",
    "同样的题目，稍有不同的形式，这句话是什么意思？"
   ]
  },
  {
   "cell_type": "markdown",
   "metadata": {},
   "source": [
    "如何在数组元素末尾插入指定元素。[1,2,3]插入4.[1,2,3,4]。把4赋值给元素索引值+1即可。"
   ]
  },
  {
   "cell_type": "markdown",
   "metadata": {},
   "source": [
    "在数组开头插入元素：\n",
    "编写一个函数，它接受一个数组和一个元素作为参数，并将该元素添加到数组的开头，数组中的其他元素相应地向后移动。\n",
    "\n",
    "如何让数组中的所有元素向后移动。\n",
    "\n"
   ]
  },
  {
   "cell_type": "code",
   "execution_count": 7,
   "metadata": {
    "metadata": {}
   },
   "outputs": [],
   "source": [
    "# /**\n",
    "#  * 把元素插入到指定的索引位置，返回新数组。\n",
    "#  * @param num 数组\n",
    "#  * @param index 索引\n",
    "#  * @param num 元素\n",
    "#  * @returns 返回新数组\n",
    "#  */\n",
    "# const join_num = (nums,index, num) => {\n",
    "#     for( let i = )\n",
    "# }\n",
    "\n",
    "\n",
    "#   我建议你分解一下。简化例子。\n",
    "\n",
    "def insert(nums: list[int], num: int, index: int):\n",
    "    \"\"\"在数组的索引 index 处插入元素 num\"\"\"\n",
    "    # 把索引 index 以及之后的所有元素向后移动一位\n",
    "    for i in range(len(nums) - 1, index, -1):\n",
    "        nums[i] = nums[i - 1]\n",
    "    # 将 num 赋给 index 处的元素\n",
    "    nums[index] = num\n"
   ]
  },
  {
   "cell_type": "code",
   "execution_count": 8,
   "metadata": {
    "metadata": {}
   },
   "outputs": [
    {
     "data": {
      "text/plain": [
       "[1, 2, 4, 3, 4]"
      ]
     },
     "execution_count": 8,
     "metadata": {},
     "output_type": "execute_result"
    }
   ],
   "source": [
    "def insert(nums: list[int], num: int, index: int):\n",
    "    \"\"\"在数组的索引 index 处插入元素 num\"\"\"\n",
    "    # 把索引 index 以及之后的所有元素向后移动一位\n",
    "    for i in range(len(nums) - 1, index, -1):\n",
    "        nums[i] = nums[i - 1]\n",
    "    # 将 num 赋给 index 处的元素\n",
    "    nums[index] = num\n",
    "\n",
    "\n",
    "nums = [1,2,3,4,5]\n",
    "insert(nums,4,2)\n",
    "nums\n",
    "\n",
    "\n",
    "# 起始值应该是数组的长度开始，然后到 index 结束。"
   ]
  },
  {
   "cell_type": "markdown",
   "metadata": {},
   "source": []
  },
  {
   "cell_type": "markdown",
   "metadata": {},
   "source": [
    "### 4. 删除元素\n",
    "\n",
    "\n",
    "示例：nums = [1,2,5,4,0] remove(nums,2)\n",
    "输出: [1,2,4,0,0]\n",
    "\n",
    "算法：若想删除索引处的元素，则需要把索引**之后的**元素都向前移动一位。\n",
    "\n",
    "\n",
    "关键字：从删除元素开始。2. 之后的元素向前移动。\n",
    "从删除元素的索引值开始，并且之后的元素的索引值向前移动一位。 + 1\n",
    "起始位置：遍历索引值的顺序先从被删除元素开始。\n",
    "结束位置：之后的元素都要向前移动，意味着每一个元素都要获取到，所以结束位置应该是元素的总长度-1.\n"
   ]
  },
  {
   "cell_type": "code",
   "execution_count": 13,
   "metadata": {
    "metadata": {}
   },
   "outputs": [
    {
     "data": {
      "text/plain": [
       "[1, 2, 4, 0, 0]"
      ]
     },
     "execution_count": 13,
     "metadata": {},
     "output_type": "execute_result"
    }
   ],
   "source": [
    "def remove(nums:list[int],index:int):\n",
    "    for i in range(index,len(nums) - 1):\n",
    "        nums[i] = nums[i + 1]\n",
    "\n",
    "    \n",
    "nums = [1,2,5,4,0] \n",
    "\n",
    "remove(nums,2)\n",
    "\n",
    "nums\n"
   ]
  },
  {
   "cell_type": "code",
   "execution_count": null,
   "metadata": {},
   "outputs": [],
   "source": []
  },
  {
   "cell_type": "markdown",
   "metadata": {},
   "source": [
    "### 5. 遍历数组\n",
    "\n",
    "疑问：对一组数据逐个执行特定操作都可以称为 iteration.\n",
    "    迭代的本质是对一组数据执行特定操作，确保所有数据都被操作正好一次，不重不漏.\n",
    "    什么样的东西可以放在 for in 里面。\n",
    "\n",
    "遍历是获取数组中所有元素的一种操作。遍历常见的有二种方式：通过索引值，直接遍历数组元素。什么样的东西，可以进行遍历呢？\n",
    "\n",
    "\n",
    "\n",
    "\n",
    "\n",
    "for i in X:\n",
    "    f(x)\n",
    "\n",
    "\n",
    "1. X必须是可迭代的。\n",
    "2. 对可迭代对象执行怎样的操作。\n",
    "\n",
    "\n",
    "\n",
    "\n",
    "\n",
    "遍历数组相当于你拿到了数组中所有元素的值，至于你要对值做什么样的操作取决于你的需求。\n",
    "比如筛选，排序，"
   ]
  },
  {
   "cell_type": "code",
   "execution_count": 23,
   "metadata": {
    "metadata": {}
   },
   "outputs": [
    {
     "name": "stdout",
     "output_type": "stream",
     "text": [
      "1\n",
      "3\n",
      "6\n",
      "10\n",
      "0 1\n",
      "1 3\n",
      "2 6\n",
      "3 10\n"
     ]
    }
   ],
   "source": [
    "def traverse(nums: list[int]):\n",
    "    \"\"\"遍历数组\"\"\"\n",
    "    count = 0\n",
    "    # 通过索引遍历数组\n",
    "    for i in range(len(nums)):\n",
    "        count += nums[i]\n",
    "        print(count)\n",
    "    # 直接遍历数组元素\n",
    "    for num in nums:\n",
    "        count += num\n",
    "    # 同时遍历数据索引和元素\n",
    "    for i, num in enumerate(nums):\n",
    "        count += nums[i]\n",
    "        count += num\n",
    "\n",
    "\n",
    "traverse([1,2,3,4])\n",
    "\n",
    "\n",
    "def nums_total(nums:list[int]):\n",
    "    count = 0\n",
    "    for i in range(len(nums)):\n",
    "        count += nums[i]\n",
    "        print(i,count)\n",
    "\n",
    "\n",
    "nums_total([1,2,3,4])"
   ]
  },
  {
   "cell_type": "code",
   "execution_count": 1,
   "metadata": {
    "metadata": {}
   },
   "outputs": [
    {
     "data": {
      "text/plain": [
       "15"
      ]
     },
     "execution_count": 1,
     "metadata": {},
     "output_type": "execute_result"
    }
   ],
   "source": [
    "nums = [1,2,3,4,5,6]\n",
    "\n",
    "\n",
    "sums = 0\n",
    "for i in range(len(nums)):\n",
    "    sums += i\n",
    "\n",
    "\n",
    "sums"
   ]
  },
  {
   "cell_type": "markdown",
   "metadata": {},
   "source": [
    "### 6. 查找元素\n",
    "\n",
    "\n",
    "\n",
    "\n",
    "输入就是数组和目标元素值。\n",
    "示例：nums = [1,2,3,4,5,6] target = 5\n",
    "\n",
    "返回：如有匹配元素返回索引值，否则返回 -1。\n",
    "\n",
    "优秀算法描述：在数组中查找指定元素需要遍历数组，每轮判断元素值是否匹配，若匹配则输出对应索引。\n",
    "因为数组是线性数据结构，所以上述查找操作被称为“线性查找”。\n",
    "\n",
    "\n",
    "我的描述：我们要在整个数组中去寻找又没有目标值。所以就涉及到遍历，遍历就是一个个取出数组中的元素。然后进行比较是否匹配。如有匹配元素返回索引值，否则返回 -1。\n",
    "不要讲这种废话。不要以第三人称的方式去讲述，会让人觉得很啰嗦。除非是当你在描述问题的背景时。\n",
    "\n"
   ]
  },
  {
   "cell_type": "code",
   "execution_count": null,
   "metadata": {},
   "outputs": [],
   "source": [
    "nums = [1,2,3,4,5,6]\n",
    "\n",
    "\n",
    "def search_nums(nums,target):\n",
    "    for i in range(len(nums)):\n",
    "        if nums[i] == target:\n",
    "            return i\n",
    "    return -1\n",
    "\n",
    "\n"
   ]
  },
  {
   "cell_type": "markdown",
   "metadata": {},
   "source": [
    "### 7. 扩容数组长度\n",
    "\n",
    "\n",
    "扩容数组的长度，使数组能够添加更多的元素。算法实现：创建满足数组长度的数组，把原数组中的所有元素迁移到新数组。\n",
    "\n",
    "初始化新数组（数组长度翻倍）。遍历原数组，通过 append 方法逐个添加到新数组中."
   ]
  },
  {
   "cell_type": "code",
   "execution_count": 1,
   "metadata": {
    "metadata": {}
   },
   "outputs": [
    {
     "name": "stdout",
     "output_type": "stream",
     "text": [
      "[1, 2, 3, 4, 5, 6]\n"
     ]
    }
   ],
   "source": [
    "nums = [1,2,3,4,5,6]\n",
    "\n",
    "\n",
    "def expanded_array(nums):\n",
    "    New_Aarry = []\n",
    "    for i in range(len(nums)):\n",
    "        New_Aarry.append(nums[i])\n",
    "\n",
    "    return New_Aarry\n",
    "\n",
    "\n",
    "expanded_array(nums) "
   ]
  },
  {
   "cell_type": "markdown",
   "metadata": {},
   "source": [
    "## 4.1.2   数组的优点与局限性¶\n",
    "数组存储在连续的内存空间内，且元素类型相同。这种做法包含丰富的先验信息，系统可以利用这些信息来优化数据结构的操作效率。\n",
    "\n",
    "\n",
    "### 优点\n",
    "空间效率高：数组为数据分配了连续的内存块，无须额外的结构开销。\n",
    "支持随机访问：数组允许在 \n",
    " 时间内访问任何元素。\n",
    "缓存局部性：当访问数组元素时，计算机不仅会加载它，还会缓存其周围的其他数据，从而借助高速缓存来提升后续操作的执行速度。\n",
    "\n",
    "\n",
    "### 局限性\n",
    "\n",
    "插入与删除效率低：当数组中元素较多时，插入与删除操作需要移动大量的元素。\n",
    "因为所有的元素都需要往后挪一位。\n",
    "\n",
    "\n",
    "长度不可变：数组在初始化后长度就**固定**了，扩容数组需要将所有数据复制到新数组，开销很大。\n",
    "（如果数据的量会不断地增加，可以考虑使用链表）。\n",
    "\n",
    "\n",
    "空间浪费：如果数组分配的大小超过实际所需，那么多余的空间就被浪费了。\n",
    "\n",
    "\n",
    "根据现实世界中的数据来使用不同的数据结构。"
   ]
  },
  {
   "cell_type": "markdown",
   "metadata": {},
   "source": [
    "## 4.1.3  数组典型应用\n",
    "\n",
    "\n",
    "\n",
    "2. 排序和搜索：数组是排序和搜索算法最常用的数据结构。快速排序、归并排序、二分查找等都主要在数组上进行。\n",
    "\n",
    "3. 查找表：当需要快速查找一个元素或其对应关系时，可以使用数组作为查找表。假如我们想实现字符到 ASCII 码的映射，则可以将字符的 ASCII 码值作为索引，对应的元素存放在数组中的对应位置。\n",
    "\n",
    "4. 机器学习：神经网络中大量使用了向量、矩阵、张量之间的线性代数运算，这些数据都是以数组的形式构建的。数组是神经网络编程中最常使用的数据结构。\n",
    "\n",
    "5. 数据结构实现：数组可以用于实现栈、队列、哈希表、堆、图等数据结构。例如，图的邻接矩阵表示实际上是一个二维数组。"
   ]
  },
  {
   "cell_type": "markdown",
   "metadata": {},
   "source": [
    "随机序列：根据数组的索引值随机生成一段序列。"
   ]
  },
  {
   "cell_type": "markdown",
   "metadata": {},
   "source": [
    "### 1. 随机访问\n",
    "\n",
    "\n",
    "如果我们想随机抽取一些样本，那么可以用数组存储，并生成一个随机序列，根据索引实现随机抽样。\n",
    "\n",
    "\n",
    "疑问：现实中的那些数据放在数组数据结构中，比较好。\n",
    "\n",
    "\n",
    "一个班级学生的学号用数组表示。就能实现随机点名。前端方面的实现。点击按钮，页面上\n"
   ]
  },
  {
   "cell_type": "code",
   "execution_count": 2,
   "metadata": {},
   "outputs": [
    {
     "ename": "TypeError",
     "evalue": "Random.random() takes no arguments (1 given)",
     "output_type": "error",
     "traceback": [
      "\u001b[1;31m---------------------------------------------------------------------------\u001b[0m",
      "\u001b[1;31mTypeError\u001b[0m                                 Traceback (most recent call last)",
      "Cell \u001b[1;32mIn[2], line 8\u001b[0m\n\u001b[0;32m      5\u001b[0m \u001b[38;5;28;01mdef\u001b[39;00m \u001b[38;5;21msuiji\u001b[39m(arr):\n\u001b[0;32m      6\u001b[0m     \u001b[38;5;28;01mpass\u001b[39;00m\n\u001b[1;32m----> 8\u001b[0m test \u001b[38;5;241m=\u001b[39m \u001b[43mrandom\u001b[49m\u001b[38;5;241;43m.\u001b[39;49m\u001b[43mrandom\u001b[49m\u001b[43m(\u001b[49m\u001b[43marr\u001b[49m\u001b[43m)\u001b[49m\n\u001b[0;32m      9\u001b[0m test\n",
      "\u001b[1;31mTypeError\u001b[0m: Random.random() takes no arguments (1 given)"
     ]
    }
   ],
   "source": [
    "import random\n",
    "\n",
    "arr = [1,2,3,4,5,6,7,8,9,10]\n",
    "\n",
    "def suiji(arr,index):\n",
    "    result = []\n",
    "    for i in range(1,index):\n",
    "        \n",
    "\n",
    "\n",
    "\n",
    "#  循环次数。\n",
    "#  随机会重复的，样本是不能重复的，添加新元素之前需要遍历添加进去的元素是否已经在数组中了。如果在则不添加在继续循环。\n",
    "# 但是这样循环的次数又变少了，还需要再加一次循环次数。"
   ]
  },
  {
   "cell_type": "markdown",
   "metadata": {},
   "source": [
    "则可以将字符的 ASCII 码值作为索引，对应的元素存放在数组中的对应位置.\n",
    "\n",
    "\n",
    "大写字母A的ASCII码值为 65.把它作为索引？肯定不是啊。\n",
    "\n",
    "26个字母只有，26个索引值怎么可能变成65。\n",
    "\n"
   ]
  },
  {
   "cell_type": "code",
   "execution_count": 7,
   "metadata": {},
   "outputs": [
    {
     "name": "stdout",
     "output_type": "stream",
     "text": [
      "[65, 66, 67, 68, 69, 70, 71, 72, 73, 74, 75, 76, 77, 78, 79, 80, 81, 82, 83, 84, 85, 86, 87, 88, 89, 90]\n"
     ]
    }
   ],
   "source": [
    "sum = []\n",
    "\n",
    "for i in range(0,26):\n",
    "    sum.append(i+65)\n",
    "\n",
    "print(sum)\n",
    "\n",
    "\n"
   ]
  },
  {
   "cell_type": "markdown",
   "metadata": {},
   "source": [
    "###  2. 排序与搜索"
   ]
  }
 ],
 "metadata": {
  "kernelspec": {
   "display_name": "Python 3",
   "language": "python",
   "name": "python3"
  },
  "language_info": {
   "codemirror_mode": {
    "name": "ipython",
    "version": 3
   },
   "file_extension": ".py",
   "mimetype": "text/x-python",
   "name": "python",
   "nbconvert_exporter": "python",
   "pygments_lexer": "ipython3",
   "version": "3.12.1"
  }
 },
 "nbformat": 4,
 "nbformat_minor": 2
}
