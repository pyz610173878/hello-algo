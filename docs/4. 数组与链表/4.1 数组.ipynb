{
 "cells": [
  {
   "cell_type": "markdown",
   "metadata": {},
   "source": [
    "# 4.1 数组\n",
    "\n",
    "数组定义与存储方式。\n",
    "元素，索引，连续性的内存地址。"
   ]
  },
  {
   "cell_type": "markdown",
   "metadata": {},
   "source": [
    "## 4.1.1 数组常用操作\n",
    "\n",
    "### 1.  初始化数组\n",
    "\n",
    "两种初始化方式有初始值和无初始值。\n",
    "基本数据类型。不仅仅生成数字，生成对象，生成空字符。\n",
    "['1','2','3','4','5']"
   ]
  },
  {
   "cell_type": "code",
   "execution_count": 2,
   "metadata": {
    "metadata": {}
   },
   "outputs": [
    {
     "name": "stdout",
     "output_type": "stream",
     "text": [
      "[0, 1, 2, 3, 4, 5, 6, 7, 8, 9]\n"
     ]
    },
    {
     "data": {
      "text/plain": [
       "[{}]"
      ]
     },
     "execution_count": 2,
     "metadata": {},
     "output_type": "execute_result"
    }
   ],
   "source": [
    "import random\n",
    "# /* 初始化数组 */\n",
    "#  编写一个函数，生成给定参数的数组。因为手动初始化数组很麻烦，很重复，所以写一个函数来生成数组。\n",
    "\n",
    "#  函数的参数是什么?\n",
    "\n",
    "#  类似的问题我解决过。是输入了一个命令。但是电脑重启后就失效了。更新设置这种方式我不会解决\n",
    "#  。先用下笨办法。\n",
    "\n",
    "# /* 初始化数组 */\n",
    "\n",
    "\n",
    "def initialize_array(n):\n",
    "    arr = []\n",
    "    for i in range(0, n):\n",
    "        arr.append(i)\n",
    "    return arr\n",
    "\n",
    "\n",
    "print(initialize_array(10))\n",
    "\n",
    "\n",
    "\n",
    "\n",
    "\n",
    "arry_object = [{}]\n"
   ]
  },
  {
   "cell_type": "markdown",
   "metadata": {},
   "source": [
    "### 2. 访问元素\n",
    "\n",
    "\n",
    "元素的值可以是不同类型的基本数据类型，它是存储在数组中的统称。访问元素就是获取存储在数组中的某种基本数据类型。元素通过索引值进行访问。\n",
    "\n",
    "\n",
    "\n",
    "这个属于算法了。但我想编写一个函数，参数为索引值，返回对应索引值的数据。单一责任原则，这个函数只做了一件事情也就是返回对应索引值的数据。但是这个函数应该还有一个参数，那就是数组本身。没有数组你去访问谁。\n",
    "\n",
    "获取索引值多少到多少的数组。\n",
    "\n",
    "\n",
    "元素内存地址 =  数组首元素地址 + 元素索引 + 数组总元素的长度"
   ]
  },
  {
   "cell_type": "markdown",
   "metadata": {},
   "source": [
    "#### 2.1 随机访问数组中某一个元素值\n",
    "\n",
    "元素可以通过索引值访问。\n",
    "1. 获取数组的索引长度。\n",
    "2. 使用生成随机数函数，参数为0-索引长度。\n",
    "3. 返回数组[随机数]\n",
    "\n",
    "\n",
    "\n",
    "题目：返回数组索引值区间的元素\n",
    "\n",
    "示例 1：\n",
    "\n",
    "输入：nums1 = [1,2,3,0,0,0]   算法：slice(2,5)\n",
    "输出：[3,0,0]\n",
    "解释：返回2-4（不包括5）索引值的新数组。\n",
    "\n",
    "\n",
    "\n",
    "\n",
    "\n"
   ]
  },
  {
   "cell_type": "code",
   "execution_count": 11,
   "metadata": {
    "metadata": {}
   },
   "outputs": [
    {
     "data": {
      "text/plain": [
       "[3, 0, 0]"
      ]
     },
     "execution_count": 11,
     "metadata": {},
     "output_type": "execute_result"
    }
   ],
   "source": [
    "def slices(nums,s,d):\n",
    "    return nums[s:d]\n",
    "\n",
    "nums1 = [1,2,3,0,0,0]\n",
    "\n",
    "\n",
    "slices(nums1,2,5)\n"
   ]
  },
  {
   "cell_type": "code",
   "execution_count": 9,
   "metadata": {
    "metadata": {}
   },
   "outputs": [
    {
     "data": {
      "text/plain": [
       "9"
      ]
     },
     "execution_count": 9,
     "metadata": {},
     "output_type": "execute_result"
    }
   ],
   "source": [
    "nums = [0, 1, 2, 3, 4, 5, 6, 7, 8, 9]\n",
    "\n",
    "\n",
    "def get_sums(nums,index):\n",
    "    return nums[index]\n",
    "\n",
    "def d(func,nums,index):\n",
    "    return func(nums,index)\n",
    "\n",
    "result = d(get_sums,nums,7)\n",
    "result\n",
    "\n",
    "\n",
    "\n",
    "nums = [0, 1, 2, 3, 4, 5, 6, 7, 8, 9]\n",
    "\n",
    "\n",
    "\n",
    "\n"
   ]
  },
  {
   "cell_type": "code",
   "execution_count": 10,
   "metadata": {
    "metadata": {}
   },
   "outputs": [
    {
     "data": {
      "text/plain": [
       "'pyz'"
      ]
     },
     "execution_count": 10,
     "metadata": {},
     "output_type": "execute_result"
    }
   ],
   "source": [
    "arrys = [{\n",
    "  \"name\": \"pyz\",\n",
    "  \"age\": 18,\n",
    "  \"performance\": \"codeing\"\n",
    "}] \n",
    "\n",
    "\n",
    "arrys[0]['name']"
   ]
  },
  {
   "cell_type": "code",
   "execution_count": 5,
   "metadata": {},
   "outputs": [
    {
     "data": {
      "text/plain": [
       "4"
      ]
     },
     "execution_count": 5,
     "metadata": {},
     "output_type": "execute_result"
    }
   ],
   "source": [
    "# /* 随机访问元素 */\n",
    "\n",
    "# 随机访问数组中的任一元素\n",
    "# 使用随机数函数。参数为0——数组的长度-1.然后返回随机数对应的元素。\n",
    "def get_array(nums):\n",
    "    length = len(nums) - 1\n",
    "    suijin = random.randint(0, length)\n",
    "    return nums[suijin]\n",
    "    \n",
    "nums = [0, 1, 2, 3, 4, 5, 6, 7, 8, 9]\n",
    "\n",
    "get_array(nums)"
   ]
  },
  {
   "cell_type": "markdown",
   "metadata": {},
   "source": [
    "### 3. 插入元素\n",
    "\n",
    "\n",
    "示例：nums = [1,2,5,4,0] nums[1] = 3\n",
    "输出: [1,3,2,5,4]\n",
    "\n",
    "\n",
    "\n",
    "如果想在数组中间插入一个元素，则需要将该元素之后的所有元素都向后移动一位，之后再把元素赋值给该索引。\n",
    "就跟排队一样，你要插队你后面的人就要挪一位。"
   ]
  },
  {
   "cell_type": "code",
   "execution_count": 30,
   "metadata": {
    "metadata": {}
   },
   "outputs": [
    {
     "name": "stdout",
     "output_type": "stream",
     "text": [
      "4\n",
      "3\n",
      "2\n",
      "1\n"
     ]
    }
   ],
   "source": [
    "\n",
    "numes = [1,2,5,4,0]\n",
    "\n",
    "\n",
    "\n",
    "# 生成从大到小的索引值。 \n",
    "\n",
    "\n",
    "\n",
    "# 将元素之后的所有元素都往后移动一位。\n",
    "\n",
    "\n",
    "\n",
    "# def insert(nums: list[int], num: int, index: int):\n",
    "#     \"\"\"在数组的索引 index 处插入元素 num\"\"\"\n",
    "#     # 把索引 index 以及之后的所有元素向后移动一位\n",
    "#     for i in range(len(nums) - 1, index, -1):\n",
    "#         print(i)\n",
    "#         nums[i] = nums[i - 1]\n",
    "#     # 将 num 赋给 index 处的元素\n",
    "#     nums[index] = num\n",
    "\n",
    "\n",
    "\n",
    "# insert(numes,5,0)   \n",
    "\n",
    "\n",
    "for i in range(len(numes) - 1, 0, -1):\n",
    "    print(i)\n",
    "\n",
    "\n",
    "\n",
    "# 生成倒叙"
   ]
  },
  {
   "cell_type": "markdown",
   "metadata": {},
   "source": [
    "把元素插入到对应索引值的位置。比如[1,2,3] n = 2。插入到 索引值 2 的位置。 那么数组变成了 [1,2,2] 那么还会有3吗？我也不知道到底有没有。\n",
    "\n",
    "所有元素都往后移动一格。如何开始移动。\n",
    "\n",
    "我的第一个思路：使用append方法。但append方法只是把元素插入到末尾。如果我想指定元素到什么位置呢?我可以编写一个函数。\n",
    "插入的索引值，数组本身，插入元素本身。\n",
    "\n",
    "\n",
    "根据数组的长度-1循环数组。每一次循环，当前索引值-1的值，赋值给当前数组的值。举个例子，[1,2,3].第一次循环的值应该是2。因为是3-1.\n",
    "然后把nums[2] = nums[2 - 1].把他前一位的值，赋值给.\n",
    "举个例子，竖排的三个人，每个人手里拿着的苹果数为，1,2,3.他丢掉了他的苹果，\n",
    "\n",
    "\n",
    "1. 循环次数根据元素要插入的索引值来定。 \n",
    "\n",
    "与之有关的题目，插入元素。可能有用的定理，（这个定理是一个变量）他是一个输入空间。在计算机领域可以替换成。算法，\n",
    "\n",
    "\n",
    "同样的题目，稍有不同的形式，这句话是什么意思？"
   ]
  },
  {
   "cell_type": "markdown",
   "metadata": {},
   "source": [
    "如何在数组元素末尾插入指定元素。[1,2,3]插入4.[1,2,3,4]。把4赋值给元素索引值+1即可。"
   ]
  },
  {
   "cell_type": "markdown",
   "metadata": {},
   "source": [
    "在数组开头插入元素：\n",
    "编写一个函数，它接受一个数组和一个元素作为参数，并将该元素添加到数组的开头，数组中的其他元素相应地向后移动。\n",
    "\n",
    "如何让数组中的所有元素向后移动。\n",
    "\n"
   ]
  },
  {
   "cell_type": "code",
   "execution_count": 3,
   "metadata": {},
   "outputs": [],
   "source": [
    "# /**\n",
    "#  * 把元素插入到指定的索引位置，返回新数组。\n",
    "#  * @param num 数组\n",
    "#  * @param index 索引\n",
    "#  * @param num 元素\n",
    "#  * @returns 返回新数组\n",
    "#  */\n",
    "# const join_num = (nums,index, num) => {\n",
    "#     for( let i = )\n",
    "# }\n",
    "\n",
    "\n",
    "#   我建议你分解一下。简化例子。\n",
    "\n",
    "\n",
    "\n",
    "\n",
    "#  哪里出了问题呢？\n",
    "\n",
    "\n",
    "def insert(nums: list[int], num: int, index: int):\n",
    "    \"\"\"在数组的索引 index 处插入元素 num\"\"\"\n",
    "    # 把索引 index 以及之后的所有元素向后移动一位\n",
    "    for i in range(len(nums) - 1, index, -1):\n",
    "        nums[i] = nums[i - 1]\n",
    "    # 将 num 赋给 index 处的元素\n",
    "    nums[index] = num\n"
   ]
  },
  {
   "cell_type": "code",
   "execution_count": 13,
   "metadata": {},
   "outputs": [
    {
     "data": {
      "text/plain": [
       "[1, 2, 3, 3, 4]"
      ]
     },
     "execution_count": 13,
     "metadata": {},
     "output_type": "execute_result"
    }
   ],
   "source": [
    "def insert(nums: list[int], num: int, index: int):\n",
    "    \"\"\"在数组的索引 index 处插入元素 num\"\"\"\n",
    "    # 把索引 index 以及之后的所有元素向后移动一位\n",
    "    for i in range(len(nums) - 1, index, -1):\n",
    "        nums[i] = nums[i - 1]\n",
    "    # 将 num 赋给 index 处的元素\n",
    "    nums[index] = num\n",
    "\n",
    "\n",
    "nums = [1,2,3,4,5]\n",
    "insert(nums,4,2)\n",
    "nums\n",
    "\n",
    "\n",
    "# 起始值应该是数组的长度开始，然后到 index 结束。"
   ]
  },
  {
   "cell_type": "markdown",
   "metadata": {},
   "source": []
  },
  {
   "cell_type": "markdown",
   "metadata": {},
   "source": [
    "### 4. 删除元素\n",
    "\n",
    "\n",
    "怎么个删除法？根据索引值删除。元素已经删除了，没有预留的位置了。"
   ]
  },
  {
   "cell_type": "code",
   "execution_count": 4,
   "metadata": {},
   "outputs": [
    {
     "ename": "SyntaxError",
     "evalue": "invalid syntax (3620717637.py, line 1)",
     "output_type": "error",
     "traceback": [
      "\u001b[1;36m  Cell \u001b[1;32mIn[4], line 1\u001b[1;36m\u001b[0m\n\u001b[1;33m    const arr = [1, 2, 3, 4];\u001b[0m\n\u001b[1;37m          ^\u001b[0m\n\u001b[1;31mSyntaxError\u001b[0m\u001b[1;31m:\u001b[0m invalid syntax\n"
     ]
    }
   ],
   "source": []
  },
  {
   "cell_type": "code",
   "execution_count": null,
   "metadata": {},
   "outputs": [],
   "source": []
  }
 ],
 "metadata": {
  "kernelspec": {
   "display_name": "Python 3",
   "language": "python",
   "name": "python3"
  },
  "language_info": {
   "codemirror_mode": {
    "name": "ipython",
    "version": 3
   },
   "file_extension": ".py",
   "mimetype": "text/x-python",
   "name": "python",
   "nbconvert_exporter": "python",
   "pygments_lexer": "ipython3",
   "version": "3.12.1"
  }
 },
 "nbformat": 4,
 "nbformat_minor": 2
}
