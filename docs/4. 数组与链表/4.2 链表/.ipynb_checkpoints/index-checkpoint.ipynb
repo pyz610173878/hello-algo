{
 "cells": [
  {
   "cell_type": "code",
   "execution_count": null,
   "metadata": {},
   "outputs": [],
   "source": []
  },
  {
   "cell_type": "markdown",
   "metadata": {},
   "source": [
    "# 4.2.1 链表常用操作"
   ]
  },
  {
   "cell_type": "markdown",
   "metadata": {},
   "source": [
    "数组与链表之间的区别：\n",
    "\n",
    "而当数组非常大时，内存可能无法提供如此大的连续空间。链表的存储方式是非连续性的。\n",
    "\n",
    "链表（linked list）是一种线性数据结构，其中的每个元素都是一个节点对象，各个节点通过“引用”相连接。引用**记录**了下一个节点的内存地址，通过它可以从当前节点访问到下一个节点。\n",
    "\n",
    "线性数据结构。\n",
    "元素 = 节点对象由两个部分组成值和引用（也叫做指针）。引用指向的另外一个节点对象。链表通过引用来访问节点对象元素中的值。\n",
    "\n",
    "\n",
    "\n",
    "数组整体是一个变量，比如数组 nums 包含元素 nums[0] 和 nums[1] 等，而链表是由多个**独立的** 节点对象 组成的。\n",
    "\n",
    "独立的节点对象。 数组不是一个对象。链表是一个对象。\n",
    "\n",
    "我们通常将头节点当作链表的代称，比如以上代码中的链表可记作链表 n0 。"
   ]
  },
  {
   "cell_type": "markdown",
   "metadata": {},
   "source": [
    "## 1. 初始化链表"
   ]
  },
  {
   "cell_type": "code",
   "execution_count": 1,
   "metadata": {},
   "outputs": [
    {
     "data": {
      "text/plain": [
       "ListNode {\n",
       "  val: \u001b[33m2\u001b[39m,\n",
       "  numbers: \u001b[90mundefined\u001b[39m,\n",
       "  next: ListNode {\n",
       "    val: \u001b[33m3\u001b[39m,\n",
       "    numbers: \u001b[90mundefined\u001b[39m,\n",
       "    next: ListNode {\n",
       "      val: \u001b[33m4\u001b[39m,\n",
       "      numbers: \u001b[90mundefined\u001b[39m,\n",
       "      next: ListNode { val: \u001b[33m5\u001b[39m, numbers: \u001b[90mundefined\u001b[39m, next: \u001b[1mnull\u001b[22m }\n",
       "    }\n",
       "  }\n",
       "}"
      ]
     },
     "execution_count": 1,
     "metadata": {},
     "output_type": "execute_result"
    }
   ],
   "source": [
    "/* 链表节点类 */\n",
    "class ListNode {\n",
    "    val: number;\n",
    "    numbers:number\n",
    "    next: ListNode | null;\n",
    "    constructor(val?: number, next?: ListNode | null) {\n",
    "        this.val = val === undefined ? 0 : val;        // 节点值\n",
    "        this.next = next === undefined ? null : next;  // 指向下一节点的引用\n",
    "    }\n",
    "}\n",
    "\n",
    "\n",
    "const n0 = new ListNode(1); //节点\n",
    "const n1 = new ListNode(2); // 节点\n",
    "const n2 = new ListNode(3);\n",
    "const n3 = new ListNode(4);\n",
    "const n4 = new ListNode(5);\n",
    "\n",
    "n0.next = n1\n",
    "n1.next = n2\n",
    "n2.next = n3\n",
    "n3.next = n4\n",
    "\n",
    "\n",
    "n0.next"
   ]
  },
  {
   "cell_type": "code",
   "execution_count": 7,
   "metadata": {},
   "outputs": [
    {
     "data": {
      "text/plain": [
       "ListNode {\n",
       "  val: \u001b[33m2\u001b[39m,\n",
       "  numbers: \u001b[90mundefined\u001b[39m,\n",
       "  next: ListNode {\n",
       "    val: \u001b[33m3\u001b[39m,\n",
       "    numbers: \u001b[90mundefined\u001b[39m,\n",
       "    next: ListNode {\n",
       "      val: \u001b[33m4\u001b[39m,\n",
       "      numbers: \u001b[90mundefined\u001b[39m,\n",
       "      next: ListNode { val: \u001b[33m5\u001b[39m, numbers: \u001b[90mundefined\u001b[39m, next: \u001b[1mnull\u001b[22m }\n",
       "    }\n",
       "  }\n",
       "}"
      ]
     },
     "execution_count": 7,
     "metadata": {},
     "output_type": "execute_result"
    }
   ],
   "source": [
    "n0.next //是一个ListNode对象，其中包括 n1的值"
   ]
  },
  {
   "cell_type": "markdown",
   "metadata": {},
   "source": [
    "## 2. 插入节点\n",
    "\n",
    "\n",
    "假设我们想在相邻的两个节点 n0 和 n1 之间插入一个新节点 P ，则只需改变两个节点引用（指针）即可，时间复杂度为。。\n",
    ".next,\n"
   ]
  },
  {
   "cell_type": "code",
   "execution_count": 2,
   "metadata": {},
   "outputs": [
    {
     "ename": "Expected ';', '}' or <eof> at file:///repl.tsx:4:7\n\n      \"\"\"\n        ~",
     "evalue": " ",
     "output_type": "error",
     "traceback": []
    }
   ],
   "source": [
    "/* 在链表的节点 n0 之后插入节点 P */\n",
    "// n0 ——> P ——> n1\n",
    "\n",
    "\n",
    "/**\n",
    "n0 = 参数P节点的前面那个节点\n",
    "P 需要插入到链表中的节点\n",
    "*/\n",
    "function insert(n0, P) {\n",
    "    const n1 = n0.next;\n",
    "    P.next = n1;\n",
    "    n0.next = P;\n",
    "}\n",
    "\n",
    "\n",
    "// n0.next的值，为n1-n4的节点对象。类似于头节点。知道了no.next就可以遍历获取到整个链表对象的值。"
   ]
  },
  {
   "cell_type": "code",
   "execution_count": null,
   "metadata": {},
   "outputs": [],
   "source": []
  },
  {
   "cell_type": "code",
   "execution_count": 17,
   "metadata": {},
   "outputs": [
    {
     "data": {
      "text/plain": [
       "\u001b[33m3\u001b[39m"
      ]
     },
     "execution_count": 17,
     "metadata": {},
     "output_type": "execute_result"
    }
   ],
   "source": [
    "function access(ListNode) {\n",
    "        return ListNode.val\n",
    "}\n",
    "\n",
    "function acceses(ListNode) {\n",
    "        return ListNode.next.val\n",
    "}\n",
    "\n",
    "function accesse(ListNode) {\n",
    "        return ListNode.next\n",
    "}\n",
    "\n",
    "access(n2)\n",
    "\n",
    "// 给定头节点，索引值，返回元素亦或者节点对象。链表没有索引值，只有指针和值。给定节点返回节点对应的val。\n",
    "\n",
    "\n",
    "\n",
    "// 数组的访问,给定数字和索引值，返回元素。\n",
    "// 字符串的访问。给定字符串和xx。\n",
    "\n"
   ]
  },
  {
   "cell_type": "markdown",
   "metadata": {},
   "source": [
    "## 3. 删除节点\n",
    "\n",
    "\n",
    "\n",
    "n0 > n1 > n2 > n3 > n4\n",
    "\n",
    "链表1   更改链表1的头节点为n1。删除n1与n0之间的指针引用即可，使n0无法访问整个链表。"
   ]
  },
  {
   "cell_type": "code",
   "execution_count": 13,
   "metadata": {},
   "outputs": [
    {
     "data": {
      "text/plain": [
       "ListNode {\n",
       "  val: \u001b[33m2\u001b[39m,\n",
       "  numbers: \u001b[90mundefined\u001b[39m,\n",
       "  next: ListNode {\n",
       "    val: \u001b[33m3\u001b[39m,\n",
       "    numbers: \u001b[90mundefined\u001b[39m,\n",
       "    next: ListNode { val: \u001b[33m5\u001b[39m, numbers: \u001b[90mundefined\u001b[39m, next: \u001b[1mnull\u001b[22m }\n",
       "  }\n",
       "}"
      ]
     },
     "execution_count": 13,
     "metadata": {},
     "output_type": "execute_result"
    }
   ],
   "source": [
    "\n",
    "n0.next = n1\n",
    "n1.next = n2\n",
    "n2.next = n3\n",
    "n3.next = n4\n",
    "\n",
    "\n",
    "\n",
    "n0.next = null\n",
    "\n",
    "\n",
    "n3.next = null\n",
    "\n",
    "n2.next = n4\n",
    "\n",
    "n1\n"
   ]
  }
 ],
 "metadata": {
  "kernelspec": {
   "display_name": "Deno",
   "language": "typescript",
   "name": "deno"
  },
  "language_info": {
   "file_extension": ".ts",
   "mimetype": "text/x.typescript",
   "name": "typescript",
   "nb_converter": "script",
   "pygments_lexer": "typescript",
   "version": "5.3.3"
  }
 },
 "nbformat": 4,
 "nbformat_minor": 4
}
