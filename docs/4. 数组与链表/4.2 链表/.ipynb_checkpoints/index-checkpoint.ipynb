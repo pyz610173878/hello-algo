{
 "cells": [
  {
   "cell_type": "code",
   "execution_count": null,
   "metadata": {},
   "outputs": [],
   "source": []
  },
  {
   "cell_type": "markdown",
   "metadata": {},
   "source": [
    "# 4.2.1 链表常用操作"
   ]
  },
  {
   "cell_type": "markdown",
   "metadata": {},
   "source": [
    "数组与链表之间的区别：\n",
    "\n",
    "而当数组非常大时，内存可能无法提供如此大的连续空间。链表的存储方式是非连续性的。\n",
    "\n",
    "链表（linked list）是一种线性数据结构，其中的每个元素都是一个节点对象，各个节点通过“引用”相连接。引用记录了下一个节点的内存地址，通过它可以从当前节点访问到下一个节点\n",
    "\n",
    "线性数据结构。\n",
    "元素 = 节点对象由两个部分组成值和引用（也叫做指针）。引用指向的另外一个节点对象。链表通过引用来访问节点对象元素中的值。\n",
    "\n",
    "\n",
    "\n",
    "数组整体是一个变量，比如数组 nums 包含元素 nums[0] 和 nums[1] 等，而链表是由多个**独立的** 节点对象 组成的。\n",
    "\n",
    "独立的节点对象。 数组不是一个对象。链表是一个对象。\n",
    "\n",
    "我们通常将头节点当作链表的代称，比如以上代码中的链表可记作链表 n0 。"
   ]
  },
  {
   "cell_type": "markdown",
   "metadata": {},
   "source": [
    "## 1. 初始化链表"
   ]
  },
  {
   "cell_type": "code",
   "execution_count": 19,
   "metadata": {},
   "outputs": [
    {
     "data": {
      "text/plain": [
       "ListNode { val: \u001b[33m2\u001b[39m, numbers: \u001b[90mundefined\u001b[39m, next: \u001b[1mnull\u001b[22m }"
      ]
     },
     "execution_count": 19,
     "metadata": {},
     "output_type": "execute_result"
    }
   ],
   "source": [
    "/* 链表节点类 */\n",
    "class ListNode {\n",
    "    val: number;\n",
    "    numbers:number\n",
    "    next: ListNode | null;\n",
    "    constructor(val?: number, next?: ListNode | null) {\n",
    "        this.val = val === undefined ? 0 : val;        // 节点值\n",
    "        this.next = next === undefined ? null : next;  // 指向下一节点的引用\n",
    "    }\n",
    "}\n",
    "\n",
    "\n",
    "const n0 = new ListNode(1);\n",
    "const n1 = new ListNode(2);\n",
    "const n2 = new ListNode(3);\n",
    "const n3 = new ListNode(4);\n",
    "const n4 = new ListNode(5);\n",
    "\n",
    "n0.next = n1\n",
    "n1.next = n2\n",
    "n2.next = n3\n",
    "n3.next = n4\n",
    "\n"
   ]
  },
  {
   "cell_type": "markdown",
   "metadata": {},
   "source": [
    "## 1.1 插入节点"
   ]
  }
 ],
 "metadata": {
  "kernelspec": {
   "display_name": "Deno",
   "language": "typescript",
   "name": "deno"
  },
  "language_info": {
   "file_extension": ".ts",
   "mimetype": "text/x.typescript",
   "name": "typescript",
   "nb_converter": "script",
   "pygments_lexer": "typescript",
   "version": "5.3.3"
  }
 },
 "nbformat": 4,
 "nbformat_minor": 4
}
