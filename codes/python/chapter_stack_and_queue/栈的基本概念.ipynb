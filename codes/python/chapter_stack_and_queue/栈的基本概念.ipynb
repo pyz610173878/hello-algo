{
 "cells": [
  {
   "cell_type": "code",
   "execution_count": null,
   "id": "14ee382c-3406-4dfa-95a0-aa933757a65e",
   "metadata": {},
   "outputs": [],
   "source": [
    "/* 初始化栈 */\n",
    "// Javascript 没有内置的栈类，可以把 Array 当作栈来使用 \n",
    "\n",
    "const stack = [];\n",
    "\n",
    "/* 元素入栈 */\n",
    "stack.push(1);\n",
    "stack.push(3);\n",
    "stack.push(2);\n",
    "stack.push(5);\n",
    "stack.push(4);"
   ]
  }
 ],
 "metadata": {
  "kernelspec": {
   "display_name": "Python 3 (ipykernel)",
   "language": "python",
   "name": "python3"
  },
  "language_info": {
   "name": ""
  }
 },
 "nbformat": 4,
 "nbformat_minor": 5
}
